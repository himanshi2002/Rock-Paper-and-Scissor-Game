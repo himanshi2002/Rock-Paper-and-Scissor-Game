{
 "cells": [
  {
   "cell_type": "code",
   "execution_count": 1,
   "metadata": {},
   "outputs": [],
   "source": [
    "import random"
   ]
  },
  {
   "cell_type": "code",
   "execution_count": 5,
   "metadata": {},
   "outputs": [
    {
     "name": "stdout",
     "output_type": "stream",
     "text": [
      "What you want rock(r),paper(p) or scissors(s):s\n"
     ]
    },
    {
     "data": {
      "text/plain": [
       "'You Lost!!'"
      ]
     },
     "execution_count": 5,
     "metadata": {},
     "output_type": "execute_result"
    }
   ],
   "source": [
    "def play():\n",
    "    user=input(\"What you want rock(r),paper(p) or scissors(s):\")\n",
    "    computer=random.choice([\"r\",\"p\",\"s\"])\n",
    "    if computer==user:\n",
    "        return \"It's a Tie\"\n",
    "    if is_win(computer,user):\n",
    "        return \"You won!!\"\n",
    "    return \"You Lost!!\" # instead of this line we can use else: return \"you lost\"\n",
    "\n",
    "    \n",
    "    \n",
    "def is_win(computer,user):\n",
    "    if(user==\"r\" and computer==\"s\") or (user==\"p\" and computer==\"r\") or (user==\"s\" and computer==\"p\"):\n",
    "        return True\n",
    "play()"
   ]
  },
  {
   "cell_type": "code",
   "execution_count": null,
   "metadata": {},
   "outputs": [],
   "source": []
  },
  {
   "cell_type": "code",
   "execution_count": null,
   "metadata": {},
   "outputs": [],
   "source": []
  }
 ],
 "metadata": {
  "kernelspec": {
   "display_name": "Python 3",
   "language": "python",
   "name": "python3"
  },
  "language_info": {
   "codemirror_mode": {
    "name": "ipython",
    "version": 3
   },
   "file_extension": ".py",
   "mimetype": "text/x-python",
   "name": "python",
   "nbconvert_exporter": "python",
   "pygments_lexer": "ipython3",
   "version": "3.8.3"
  }
 },
 "nbformat": 4,
 "nbformat_minor": 4
}
